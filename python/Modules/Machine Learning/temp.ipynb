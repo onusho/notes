{
 "cells": [
  {
   "cell_type": "code",
   "execution_count": 1,
   "metadata": {},
   "outputs": [],
   "source": [
    "import numpy as np\n",
    "rng = np.random.default_rng()\n"
   ]
  },
  {
   "cell_type": "code",
   "execution_count": 12,
   "metadata": {},
   "outputs": [],
   "source": [
    "A_prev = np.random.randn(2, 5, 7, 4)\n",
    "W = np.random.randn(3, 3, 4, 8)\n",
    "b = np.random.randn(1, 1, 1, 8)"
   ]
  },
  {
   "cell_type": "code",
   "execution_count": 16,
   "metadata": {},
   "outputs": [],
   "source": [
    "# GRADED FUNCTION: zero_pad\n",
    "\n",
    "def zero_pad(X, pad):\n",
    "    \"\"\"\n",
    "    Pad with zeros all images of the dataset X. The padding is applied to the height and width of an image, \n",
    "    as illustrated in Figure 1.\n",
    "    \n",
    "    Argument:\n",
    "    X -- python numpy array of shape (m, n_H, n_W, n_C) representing a batch of m images\n",
    "    pad -- integer, amount of padding around each image on vertical and horizontal dimensions\n",
    "    \n",
    "    Returns:\n",
    "    X_pad -- padded image of shape (m, n_H + 2 * pad, n_W + 2 * pad, n_C)\n",
    "    \"\"\"\n",
    "    \n",
    "    #(≈ 1 line)\n",
    "    # X_pad = None\n",
    "    # YOUR CODE STARTS HERE\n",
    "    X_pad = np.pad(X, ((0, 0), (pad, pad), (pad, pad), (0, 0)))\n",
    "    \n",
    "    # YOUR CODE ENDS HERE\n",
    "    \n",
    "    return X_pad"
   ]
  },
  {
   "cell_type": "code",
   "execution_count": 68,
   "metadata": {},
   "outputs": [],
   "source": [
    "# GRADED FUNCTION: conv_single_step\n",
    "\n",
    "def conv_single_step(a_slice_prev, W, b):\n",
    "    \"\"\"\n",
    "    Apply one filter defined by parameters W on a single slice (a_slice_prev) of the output activation \n",
    "    of the previous layer.\n",
    "    \n",
    "    Arguments:\n",
    "    a_slice_prev -- slice of input data of shape (f, f, n_C_prev)\n",
    "    W -- Weight parameters contained in a window - matrix of shape (f, f, n_C_prev)\n",
    "    b -- Bias parameters contained in a window - matrix of shape (1, 1, 1)\n",
    "    \n",
    "    Returns:\n",
    "    Z -- a scalar value, the result of convolving the sliding window (W, b) on a slice x of the input data\n",
    "    \"\"\"\n",
    "\n",
    "    #(≈ 3 lines of code)\n",
    "    # Element-wise product between a_slice_prev and W. Do not add the bias yet.\n",
    "    # s = None\n",
    "    # Sum over all entries of the volume s.\n",
    "    # Z = None\n",
    "    # Add bias b to Z. Cast b to a float() so that Z results in a scalar value.\n",
    "    # Z = None\n",
    "    # YOUR CODE STARTS HERE\n",
    "    s = a_slice_prev * W\n",
    "    Z = np.sum(s)\n",
    "    Z = int((Z + b)[0])\n",
    "    # YOUR CODE ENDS HERE\n",
    "\n",
    "    return Z"
   ]
  },
  {
   "cell_type": "code",
   "execution_count": 69,
   "metadata": {},
   "outputs": [],
   "source": [
    "# GRADED FUNCTION: conv_forward\n",
    "\n",
    "def conv_forward(A_prev, W, b, hparameters):\n",
    "    \"\"\"\n",
    "    Implements the forward propagation for a convolution function\n",
    "    \n",
    "    Arguments:\n",
    "    A_prev -- output activations of the previous layer, \n",
    "        numpy array of shape (m, n_H_prev, n_W_prev, n_C_prev)\n",
    "    W -- Weights, numpy array of shape (f, f, n_C_prev, n_C)\n",
    "    b -- Biases, numpy array of shape (1, 1, 1, n_C)\n",
    "    hparameters -- python dictionary containing \"stride\" and \"pad\"\n",
    "        \n",
    "    Returns:\n",
    "    Z -- conv output, numpy array of shape (m, n_H, n_W, n_C)\n",
    "    cache -- cache of values needed for the conv_backward() function\n",
    "    \"\"\"\n",
    "    \n",
    "    # Retrieve dimensions from A_prev's shape (≈1 line)  \n",
    "    # (m, n_H_prev, n_W_prev, n_C_prev) = None\n",
    "    (m, n_H_prev, n_W_prev, n_C_prev) = A_prev.shape\n",
    "    \n",
    "    # Retrieve dimensions from W's shape (≈1 line)\n",
    "    # (f, f, n_C_prev, n_C) = None\n",
    "    (f, f, n_C_prev, n_C) = W.shape\n",
    "    \n",
    "    # Retrieve information from \"hparameters\" (≈2 lines)\n",
    "    # stride = None\n",
    "    # pad = None\n",
    "    stride = hparameters['stride']\n",
    "    pad = hparameters['pad']\n",
    "    \n",
    "    # Compute the dimensions of the CONV output volume using the formula given above. \n",
    "    # Hint: use int() to apply the 'floor' operation. (≈2 lines)\n",
    "    # n_H = None\n",
    "    # n_W = None\n",
    "    n_H = int(((n_H_prev - f + 2 * pad) / stride) // 1 + 1)\n",
    "    n_W = int(((n_W_prev - f + 2 * pad) / stride) // 1 + 1)\n",
    "    \n",
    "    # Initialize the output volume Z with zeros. (≈1 line)\n",
    "    # Z = None\n",
    "    Z = np.zeros((m, n_H, n_W, n_C))\n",
    "    \n",
    "    # Create A_prev_pad by padding A_prev\n",
    "    # A_prev_pad = None\n",
    "    A_prev_pad = zero_pad(A_prev, pad)\n",
    "    \n",
    "    # YOUR CODE STARTS HERE\n",
    "    for i in range(m):\n",
    "        a_prev_pad = A_prev_pad[i]\n",
    "        for h in range(n_H):\n",
    "            vert_start = h - (f // 2) + 1 \n",
    "            vert_end = h + (f // 2) + 2\n",
    "            for w in range(n_W):\n",
    "                horiz_start = w - (f // 2) + 1\n",
    "                horiz_end = w + (f // 2) + 2\n",
    "                for c in range(n_C):\n",
    "                    a_slice_prev = a_prev_pad[vert_start : vert_end, horiz_start : horiz_end, :]\n",
    "                    weights = W[:, :, :, c]\n",
    "                    biases = b[:, :, :, c]\n",
    "                    Z[i, h, w, c] = conv_single_step(a_slice_prev, weights, biases)\n",
    "\n",
    "    \n",
    "    # YOUR CODE ENDS HERE\n",
    "    \n",
    "    # Save information in \"cache\" for the backprop\n",
    "    cache = (A_prev, W, b, hparameters)\n",
    "    \n",
    "    return Z, cache"
   ]
  },
  {
   "cell_type": "code",
   "execution_count": 70,
   "metadata": {},
   "outputs": [
    {
     "name": "stderr",
     "output_type": "stream",
     "text": [
      "C:\\Users\\Anush\\AppData\\Local\\Temp\\ipykernel_22956\\1938301191.py:27: DeprecationWarning: Conversion of an array with ndim > 0 to a scalar is deprecated, and will error in future. Ensure you extract a single element from your array before performing this operation. (Deprecated NumPy 1.25.)\n",
      "  Z = int((Z + b)[0])\n"
     ]
    }
   ],
   "source": [
    "A_prev = np.random.randn(2, 5, 7, 4)\n",
    "W = np.random.randn(3, 3, 4, 8)\n",
    "b = np.random.randn(1, 1, 1, 8)\n",
    "hparameters = {\"pad\" : 1,\n",
    "               \"stride\": 2}\n",
    "Z, cache_conv = conv_forward(A_prev, W, b, hparameters)\n"
   ]
  },
  {
   "cell_type": "code",
   "execution_count": 73,
   "metadata": {},
   "outputs": [
    {
     "data": {
      "text/plain": [
       "array([[[[ -3.,   0.,   2.,   0.,   3.,   0.,   0.,  -1.],\n",
       "         [  1.,   1.,   3.,  -8.,   7.,   2.,   0., -10.],\n",
       "         [  5.,   0.,   2.,  -5.,   2.,  -1.,  -2.,  -1.],\n",
       "         [ -3.,  -5.,  -4.,   0.,  -8.,  -7.,  -2.,   0.]],\n",
       "\n",
       "        [[ -9.,  -7.,   1.,   0.,  -5.,   3.,  -1.,   5.],\n",
       "         [  4.,   4.,   3.,   1.,   3.,   0.,   2.,   1.],\n",
       "         [  5.,   0.,  -3.,  -9.,   4.,  -5.,  10.,  -1.],\n",
       "         [  8.,  -5.,   8.,  -4.,  -2.,   2.,   2.,   1.]],\n",
       "\n",
       "        [[  5.,   4.,   2.,   2.,   0.,   2.,   6.,  -6.],\n",
       "         [  3.,  -5.,  -3.,  -9.,  -4.,  -3.,   3.,  14.],\n",
       "         [  2.,  -4.,   8.,   0.,  -5.,   3.,  -5.,   4.],\n",
       "         [ -7.,   3.,  -3.,   0., -13.,   1.,  -7.,   6.]]],\n",
       "\n",
       "\n",
       "       [[[ -4.,  -3.,   5.,   0., -10.,   5.,  -1.,  -2.],\n",
       "         [ -9.,   2.,   7.,   4.,  -7.,  13.,   9.,  -5.],\n",
       "         [  2.,   8.,   1.,  -2.,   4.,   5.,  -6.,  -1.],\n",
       "         [  6.,  -7.,  -6.,  -9.,   1.,  -7.,   0.,  -8.]],\n",
       "\n",
       "        [[ -6.,  -1.,  -8.,   2.,  -7.,  -1.,   0.,  -7.],\n",
       "         [ -3.,   4.,   1.,   2.,  12.,   7.,  -8.,   6.],\n",
       "         [  5.,   3.,  -3.,  -4.,   1.,  -6.,  10.,   6.],\n",
       "         [  5., -14.,   7.,  -2.,   9.,   0.,   2.,  -4.]],\n",
       "\n",
       "        [[ -2.,   5.,  11.,   1.,   4.,   2.,   0.,  -3.],\n",
       "         [ -3.,  -2.,   1.,   0.,   1.,   4.,  -7.,  -7.],\n",
       "         [  0., -11.,  -1.,   0.,  -3.,   1.,   5.,  -5.],\n",
       "         [  3.,   0.,   5.,   0.,  -2.,  -3., -12.,   6.]]]])"
      ]
     },
     "execution_count": 73,
     "metadata": {},
     "output_type": "execute_result"
    }
   ],
   "source": [
    "Z"
   ]
  },
  {
   "cell_type": "code",
   "execution_count": 71,
   "metadata": {},
   "outputs": [
    {
     "name": "stdout",
     "output_type": "stream",
     "text": [
      "(2, 5, 7, 4)\n"
     ]
    }
   ],
   "source": [
    "# Retrieve dimensions from A_prev's shape (≈1 line)  \n",
    "# (m, n_H_prev, n_W_prev, n_C_prev) = None\n",
    "(m, n_H_prev, n_W_prev, n_C_prev) = A_prev.shape\n",
    "print((m, n_H_prev, n_W_prev, n_C_prev) )"
   ]
  },
  {
   "cell_type": "code",
   "execution_count": 54,
   "metadata": {},
   "outputs": [
    {
     "name": "stdout",
     "output_type": "stream",
     "text": [
      "(3, 3, 4, 8)\n"
     ]
    }
   ],
   "source": [
    "\n",
    "# Retrieve dimensions from W's shape (≈1 line)\n",
    "# (f, f, n_C_prev, n_C) = None\n",
    "(f, f, n_C_prev, n_C) = W.shape\n",
    "print(W.shape)"
   ]
  },
  {
   "cell_type": "code",
   "execution_count": 55,
   "metadata": {},
   "outputs": [],
   "source": [
    "\n",
    "# Retrieve information from \"hparameters\" (≈2 lines)\n",
    "# stride = None\n",
    "# pad = None\n",
    "stride = hparameters['stride']\n",
    "pad = hparameters['pad']\n"
   ]
  },
  {
   "cell_type": "code",
   "execution_count": 56,
   "metadata": {},
   "outputs": [
    {
     "name": "stdout",
     "output_type": "stream",
     "text": [
      "3 4\n"
     ]
    }
   ],
   "source": [
    "\n",
    "# Compute the dimensions of the CONV output volume using the formula given above. \n",
    "# Hint: use int() to apply the 'floor' operation. (≈2 lines)\n",
    "# n_H = None\n",
    "# n_W = None\n",
    "n_H = int(((n_H_prev - f + 2 * pad) / stride) // 1 + 1)\n",
    "n_W = int(((n_W_prev - f + 2 * pad) / stride) // 1 + 1)\n",
    "print(n_H, n_W)"
   ]
  },
  {
   "cell_type": "code",
   "execution_count": 57,
   "metadata": {},
   "outputs": [],
   "source": [
    "\n",
    "# Initialize the output volume Z with zeros. (≈1 line)\n",
    "# Z = None\n",
    "Z = np.zeros((m, n_H, n_W, n_C))\n"
   ]
  },
  {
   "cell_type": "code",
   "execution_count": 58,
   "metadata": {},
   "outputs": [
    {
     "data": {
      "text/plain": [
       "(2, 7, 9, 4)"
      ]
     },
     "execution_count": 58,
     "metadata": {},
     "output_type": "execute_result"
    }
   ],
   "source": [
    "\n",
    "# Create A_prev_pad by padding A_prev\n",
    "# A_prev_pad = None\n",
    "A_prev_pad = zero_pad(A_prev, pad)\n",
    "A_prev_pad.shape"
   ]
  },
  {
   "cell_type": "code",
   "execution_count": 59,
   "metadata": {},
   "outputs": [
    {
     "data": {
      "text/plain": [
       "(7, 9, 4)"
      ]
     },
     "execution_count": 59,
     "metadata": {},
     "output_type": "execute_result"
    }
   ],
   "source": [
    "A_prev_pad[0].shape"
   ]
  },
  {
   "cell_type": "code",
   "execution_count": 60,
   "metadata": {},
   "outputs": [
    {
     "name": "stdout",
     "output_type": "stream",
     "text": [
      "2 5\n"
     ]
    }
   ],
   "source": [
    "h = 2\n",
    "f = 3\n",
    "vert_start = h - (f // 2) + 1\n",
    "vert_end = h + (f // 2) + 2\n",
    "print(vert_start, vert_end)"
   ]
  },
  {
   "cell_type": "code",
   "execution_count": 61,
   "metadata": {},
   "outputs": [
    {
     "data": {
      "text/plain": [
       "1"
      ]
     },
     "execution_count": 61,
     "metadata": {},
     "output_type": "execute_result"
    }
   ],
   "source": [
    "f//2"
   ]
  },
  {
   "cell_type": "code",
   "execution_count": 62,
   "metadata": {},
   "outputs": [
    {
     "name": "stderr",
     "output_type": "stream",
     "text": [
      "C:\\Users\\Anush\\AppData\\Local\\Temp\\ipykernel_22956\\3131362450.py:35: DeprecationWarning: Conversion of an array with ndim > 0 to a scalar is deprecated, and will error in future. Ensure you extract a single element from your array before performing this operation. (Deprecated NumPy 1.25.)\n",
      "  Z[i, h, w, c] = conv_single_step(a_slice_prev, weights, biases)\n"
     ]
    }
   ],
   "source": [
    "\n",
    "# for i in range(None):               # loop over the batch of training examples\n",
    "    # a_prev_pad = None               # Select ith training example's padded activation\n",
    "    # for h in range(None):           # loop over vertical axis of the output volume\n",
    "        # Find the vertical start and end of the current \"slice\" (≈2 lines)\n",
    "        # vert_start = None\n",
    "        # vert_end = None\n",
    "        \n",
    "        # for w in range(None):       # loop over horizontal axis of the output volume\n",
    "            # Find the horizontal start and end of the current \"slice\" (≈2 lines)\n",
    "            # horiz_start = None\n",
    "            # horiz_end = None\n",
    "            \n",
    "            # for c in range(None):   # loop over channels (= #filters) of the output volume\n",
    "                                    \n",
    "                # Use the corners to define the (3D) slice of a_prev_pad (See Hint above the cell). (≈1 line)\n",
    "                # a_slice_prev = None\n",
    "                \n",
    "                # Convolve the (3D) slice with the correct filter W and bias b, to get back one output neuron. (≈3 line)\n",
    "                # weights = None\n",
    "                # biases = None\n",
    "                # Z[i, h, w, c] = None\n",
    "# YOUR CODE STARTS HERE\n"
   ]
  },
  {
   "cell_type": "code",
   "execution_count": null,
   "metadata": {},
   "outputs": [],
   "source": []
  }
 ],
 "metadata": {
  "kernelspec": {
   "display_name": "Python 3",
   "language": "python",
   "name": "python3"
  },
  "language_info": {
   "codemirror_mode": {
    "name": "ipython",
    "version": 3
   },
   "file_extension": ".py",
   "mimetype": "text/x-python",
   "name": "python",
   "nbconvert_exporter": "python",
   "pygments_lexer": "ipython3",
   "version": "3.11.8"
  }
 },
 "nbformat": 4,
 "nbformat_minor": 2
}
